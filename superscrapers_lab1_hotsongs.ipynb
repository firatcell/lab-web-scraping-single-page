{
 "cells": [
  {
   "cell_type": "markdown",
   "metadata": {},
   "source": [
    "# Billboard web scraping\n",
    "## Instructions - Scraping popular songs\n",
    "\n",
    "Your product will take a song as an input from the user and will output another song (the recommendation). In most cases, the recommended song will have to be similar to the inputted song, but the CTO thinks that if the song is on the top charts at the moment, the user will enjoy more a recommendation of a song that's also popular at the moment.\n",
    "\n",
    "You have find data on the internet about currently popular songs. Billboard maintains a weekly Top 100 of \"hot\" songs here: https://www.billboard.com/charts/hot-100.\n",
    "\n",
    "It's a good place to start!\n",
    "\n",
    "The goal of this lab is to **create a function**: `scrape_hot100()` to scrape the current top 100 songs present at https://www.billboard.com/charts/hot-100 and their respective artists, put the information into a `pandas dataframe`, and save the dataframe in a `csv file` in the current folder."
   ]
  },
  {
   "cell_type": "code",
   "execution_count": 1,
   "metadata": {},
   "outputs": [],
   "source": [
    "# import libraries\n",
    "from bs4 import BeautifulSoup\n",
    "import requests\n",
    "import pandas as pd"
   ]
  },
  {
   "cell_type": "code",
   "execution_count": 2,
   "metadata": {},
   "outputs": [],
   "source": [
    "def scrape_hot100(url):\n",
    "    '''\n",
    "    Intput: URL\n",
    "    This function takes the URL of the Billboard website,\n",
    "    extracts the song titles and names of artists,\n",
    "    creates a datadrame with the information\n",
    "    and saves it into a csv file into the current folder\n",
    "    '''\n",
    "\n",
    "    # download html\n",
    "    response = requests.get(url) \n",
    "    print(response.status_code, \"-> 200 = HTML downloaded correctly\") # 200 status code means OK!\n",
    "\n",
    "    # parse html\n",
    "    soup = BeautifulSoup(response.content, \"html.parser\")\n",
    "\n",
    "    # define empty lists to append values\n",
    "    artists = []\n",
    "    titles = []\n",
    "\n",
    "    for elem in soup.select(\" li.lrv-u-width-100p\"):\n",
    "        for index, e in enumerate(elem.select(\"h3\")):\n",
    "            if (index % 2 ==0):\n",
    "                titles.append(e.get_text().replace(\"\\n\",\"\").replace(\"\\t\",\"\"))\n",
    "                artists.append(e.parent.select(\"span\")[0].get_text().replace(\"\\n\",\"\").replace(\"\\t\",\"\"))\n",
    "    hot_songs = pd.DataFrame({\"titles\":titles, \"artists\":artists})\n",
    "    hot_songs.to_csv('hot_songs.csv', index=False)\n"
   ]
  },
  {
   "cell_type": "markdown",
   "metadata": {},
   "source": [
    "Test the function:"
   ]
  },
  {
   "cell_type": "code",
   "execution_count": 3,
   "metadata": {},
   "outputs": [],
   "source": [
    "# save the url into a variable\n",
    "url_billboard = \"https://www.billboard.com/charts/hot-100\""
   ]
  },
  {
   "cell_type": "code",
   "execution_count": 4,
   "metadata": {},
   "outputs": [
    {
     "name": "stdout",
     "output_type": "stream",
     "text": [
      "200 -> 200 = HTML downloaded correctly\n"
     ]
    }
   ],
   "source": [
    "# apply the function\n",
    "scrape_hot100(url_billboard)"
   ]
  },
  {
   "cell_type": "code",
   "execution_count": null,
   "metadata": {},
   "outputs": [],
   "source": []
  }
 ],
 "metadata": {
  "kernelspec": {
   "display_name": "Python 3 (ipykernel)",
   "language": "python",
   "name": "python3"
  },
  "language_info": {
   "codemirror_mode": {
    "name": "ipython",
    "version": 3
   },
   "file_extension": ".py",
   "mimetype": "text/x-python",
   "name": "python",
   "nbconvert_exporter": "python",
   "pygments_lexer": "ipython3",
   "version": "3.9.13"
  }
 },
 "nbformat": 4,
 "nbformat_minor": 2
}
